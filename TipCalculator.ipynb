{
 "cells": [
  {
   "cell_type": "code",
   "execution_count": 9,
   "metadata": {},
   "outputs": [
    {
     "name": "stdout",
     "output_type": "stream",
     "text": [
      "Welcome to the tip calculator\n",
      "Amount each person has to pay is: 278.88\n"
     ]
    }
   ],
   "source": [
    "print(\"Welcome to the tip calculator\")\n",
    "bill = int(input(\"What was the total bill: \"))\n",
    "while True:\n",
    "    try:\n",
    "        tip = int(input(\"How much tip would you like to give(10, 12 or 15): \"))\n",
    "        if tip in [10, 12, 15]:\n",
    "            break\n",
    "        else:\n",
    "            print(\"Enter either 10, 12, or 15\")\n",
    "    except ValueError:\n",
    "        print(\"Incorrect tip, enter a valid tip\")      \n",
    "\n",
    "while True:\n",
    "    try:\n",
    "        split = int(input(\"How many people to split with: \"))\n",
    "        break\n",
    "    except ValueError:\n",
    "        print(\"Enter a valid integer\")\n",
    "\n",
    "if tip == 12:\n",
    "    amount = (bill * 1.12)/split\n",
    "    print(f\"Amount each person has to pay is: {round(amount, 2)}\")\n",
    "elif tip == 15:\n",
    "    amount = (bill*1.15)/split\n",
    "    print(f\"Amount each person has to pay is: {round(amount, 2)}\")\n",
    "else:\n",
    "    amount = (bill*1.10)/split  \n",
    "    print(f\"Amount each person has to pay is: {round(amount, 2)}\")\n",
    "\n"
   ]
  },
  {
   "cell_type": "code",
   "execution_count": 8,
   "metadata": {},
   "outputs": [
    {
     "name": "stdout",
     "output_type": "stream",
     "text": [
      "Welcome to the tip calculator\n",
      "Amount each person of the group needs to pay is:  198.24\n",
      "Total bill is 1239.0, with a tip of 12 percentage \n"
     ]
    }
   ],
   "source": [
    "class TipCalculator:\n",
    "    def __init__(self):\n",
    "        self.bill = 0\n",
    "        self.tip = 0\n",
    "        self.split = 1\n",
    "    \n",
    "    def getBill(self):\n",
    "        while True:\n",
    "            try: \n",
    "                self.bill = float(input(\"Enter the Bill amount: \"))\n",
    "                break\n",
    "            except ValueError:\n",
    "                print(\"Please enter a valid number\")\n",
    "        \n",
    "    def setTip(self):\n",
    "        while True:\n",
    "            try:\n",
    "                self.tip = int(input(\"Enter the tip amount[10, 12, 15]: \"))\n",
    "                if self.tip in [10, 12, 15]:\n",
    "                    break\n",
    "                else:\n",
    "                    print(\"Enter either 10, 12, 15\")\n",
    "            except ValueError:\n",
    "                print(\"Enter a valid tip\")\n",
    "    def setSplit(self):\n",
    "        while True:\n",
    "            try:\n",
    "                self.split = int(input(\"How many people to split the bill with: \"))\n",
    "                if self.split > 0:\n",
    "                    break\n",
    "                else:\n",
    "                    print(\"Please enter a positive integer\")\n",
    "            except ValueError:\n",
    "                print(\"Enter a valid positive integer\")\n",
    "\n",
    "    def calculate(self):\n",
    "        total_tip = 1 + self.tip/100\n",
    "        amount = (self.bill * total_tip)/self.split\n",
    "        return amount\n",
    "    \n",
    "    def displayResult(self):\n",
    "        amount = self.calculate()\n",
    "        print(\"Amount each person of the group needs to pay is: \", round(amount, 2))\n",
    "        print(f\"Total bill is {self.bill}, with a tip of {self.tip} percentage \")\n",
    "\n",
    "\n",
    "if __name__ == \"__main__\":\n",
    "    print(\"Welcome to the tip calculator\")\n",
    "    calculator = TipCalculator()\n",
    "    calculator.getBill()\n",
    "    calculator.setTip()\n",
    "    calculator.setSplit()\n",
    "    calculator.displayResult()\n"
   ]
  }
 ],
 "metadata": {
  "kernelspec": {
   "display_name": "Python 3 (ipykernel)",
   "language": "python",
   "name": "python3"
  },
  "language_info": {
   "codemirror_mode": {
    "name": "ipython",
    "version": 3
   },
   "file_extension": ".py",
   "mimetype": "text/x-python",
   "name": "python",
   "nbconvert_exporter": "python",
   "pygments_lexer": "ipython3",
   "version": "3.11.5"
  }
 },
 "nbformat": 4,
 "nbformat_minor": 2
}
